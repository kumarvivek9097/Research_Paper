{
 "cells": [
  {
   "cell_type": "code",
   "execution_count": 1,
   "metadata": {},
   "outputs": [],
   "source": [
    "import pandas as pd\n",
    "import numpy as np\n",
    "from pandas import Series, DataFrame\n",
    "import matplotlib.pyplot as plt\n",
    "from sklearn.metrics import mean_absolute_error\n",
    "from sklearn.model_selection import train_test_split\n",
    "from sklearn.linear_model import LinearRegression"
   ]
  },
  {
   "cell_type": "code",
   "execution_count": 2,
   "metadata": {},
   "outputs": [],
   "source": [
    "def mean_absolute_percentage_error(y_true, y_pred):\n",
    "    return np.mean(np.abs((y_true - y_pred) / y_true)) * 100\n",
    "    "
   ]
  },
  {
   "cell_type": "code",
   "execution_count": 3,
   "metadata": {},
   "outputs": [
    {
     "data": {
      "text/html": [
       "<div>\n",
       "<style>\n",
       "    .dataframe thead tr:only-child th {\n",
       "        text-align: right;\n",
       "    }\n",
       "\n",
       "    .dataframe thead th {\n",
       "        text-align: left;\n",
       "    }\n",
       "\n",
       "    .dataframe tbody tr th {\n",
       "        vertical-align: top;\n",
       "    }\n",
       "</style>\n",
       "<table border=\"1\" class=\"dataframe\">\n",
       "  <thead>\n",
       "    <tr style=\"text-align: right;\">\n",
       "      <th></th>\n",
       "      <th>Year</th>\n",
       "      <th>Actual energy demand</th>\n",
       "      <th>GDP</th>\n",
       "      <th>Population</th>\n",
       "      <th>Export</th>\n",
       "      <th>Import</th>\n",
       "      <th>Energy Production (kt of oil eq.)</th>\n",
       "      <th>Electricity power trans. and dist. Losses (kWh)</th>\n",
       "      <th>Electricity Production (kWh)</th>\n",
       "      <th>GDP per unit of energy use (PPP $ per kg of oil eq.)</th>\n",
       "      <th>Energy imports net (% energy use)</th>\n",
       "      <th>Fossil Fuel Consumption (% total)</th>\n",
       "      <th>Electric Power Consumption (kWh)</th>\n",
       "      <th>CO2 Emissions total (million t)</th>\n",
       "      <th>Unemplyment rate (%)</th>\n",
       "      <th>Diesel consumpion road (kt of oil equivalent)</th>\n",
       "    </tr>\n",
       "  </thead>\n",
       "  <tbody>\n",
       "    <tr>\n",
       "      <th>0</th>\n",
       "      <td>2011</td>\n",
       "      <td>93238</td>\n",
       "      <td>1045620</td>\n",
       "      <td>4.594795e+07</td>\n",
       "      <td>186780.0</td>\n",
       "      <td>240055</td>\n",
       "      <td>34298.832</td>\n",
       "      <td>27400000000</td>\n",
       "      <td>298320000000</td>\n",
       "      <td>11.351615</td>\n",
       "      <td>73.151300</td>\n",
       "      <td>76.102673</td>\n",
       "      <td>265794000000</td>\n",
       "      <td>267.92</td>\n",
       "      <td>20.1</td>\n",
       "      <td>23590</td>\n",
       "    </tr>\n",
       "    <tr>\n",
       "      <th>1</th>\n",
       "      <td>2010</td>\n",
       "      <td>97576</td>\n",
       "      <td>1046894</td>\n",
       "      <td>4.514878e+07</td>\n",
       "      <td>159889.0</td>\n",
       "      <td>206116</td>\n",
       "      <td>30250.684</td>\n",
       "      <td>24445000000</td>\n",
       "      <td>291869000000</td>\n",
       "      <td>11.488947</td>\n",
       "      <td>76.317140</td>\n",
       "      <td>79.793961</td>\n",
       "      <td>262071000000</td>\n",
       "      <td>282.49</td>\n",
       "      <td>18.0</td>\n",
       "      <td>24259</td>\n",
       "    </tr>\n",
       "    <tr>\n",
       "      <th>2</th>\n",
       "      <td>2009</td>\n",
       "      <td>95815</td>\n",
       "      <td>1087788</td>\n",
       "      <td>4.441521e+07</td>\n",
       "      <td>189227.0</td>\n",
       "      <td>283387</td>\n",
       "      <td>30349.942</td>\n",
       "      <td>25810000000</td>\n",
       "      <td>310978000000</td>\n",
       "      <td>10.866191</td>\n",
       "      <td>78.167604</td>\n",
       "      <td>81.800550</td>\n",
       "      <td>276909000000</td>\n",
       "      <td>317.11</td>\n",
       "      <td>11.3</td>\n",
       "      <td>26343</td>\n",
       "    </tr>\n",
       "    <tr>\n",
       "      <th>3</th>\n",
       "      <td>2008</td>\n",
       "      <td>103274</td>\n",
       "      <td>1053161</td>\n",
       "      <td>4.374402e+07</td>\n",
       "      <td>185023.0</td>\n",
       "      <td>285038</td>\n",
       "      <td>30289.025</td>\n",
       "      <td>25481000000</td>\n",
       "      <td>301839000000</td>\n",
       "      <td>10.050764</td>\n",
       "      <td>78.941929</td>\n",
       "      <td>83.187732</td>\n",
       "      <td>273820000000</td>\n",
       "      <td>343.71</td>\n",
       "      <td>8.3</td>\n",
       "      <td>25726</td>\n",
       "    </tr>\n",
       "    <tr>\n",
       "      <th>4</th>\n",
       "      <td>2007</td>\n",
       "      <td>106839</td>\n",
       "      <td>985547</td>\n",
       "      <td>4.313201e+07</td>\n",
       "      <td>170438.0</td>\n",
       "      <td>262687</td>\n",
       "      <td>31338.527</td>\n",
       "      <td>25125000000</td>\n",
       "      <td>295582000000</td>\n",
       "      <td>9.440491</td>\n",
       "      <td>77.891422</td>\n",
       "      <td>82.502140</td>\n",
       "      <td>271049000000</td>\n",
       "      <td>331.86</td>\n",
       "      <td>8.5</td>\n",
       "      <td>24546</td>\n",
       "    </tr>\n",
       "  </tbody>\n",
       "</table>\n",
       "</div>"
      ],
      "text/plain": [
       "   Year  Actual energy demand      GDP    Population    Export  Import  \\\n",
       "0  2011                 93238  1045620  4.594795e+07  186780.0  240055   \n",
       "1  2010                 97576  1046894  4.514878e+07  159889.0  206116   \n",
       "2  2009                 95815  1087788  4.441521e+07  189227.0  283387   \n",
       "3  2008                103274  1053161  4.374402e+07  185023.0  285038   \n",
       "4  2007                106839   985547  4.313201e+07  170438.0  262687   \n",
       "\n",
       "   Energy Production (kt of oil eq.)  \\\n",
       "0                          34298.832   \n",
       "1                          30250.684   \n",
       "2                          30349.942   \n",
       "3                          30289.025   \n",
       "4                          31338.527   \n",
       "\n",
       "   Electricity power trans. and dist. Losses (kWh)  \\\n",
       "0                                      27400000000   \n",
       "1                                      24445000000   \n",
       "2                                      25810000000   \n",
       "3                                      25481000000   \n",
       "4                                      25125000000   \n",
       "\n",
       "   Electricity Production (kWh)  \\\n",
       "0                  298320000000   \n",
       "1                  291869000000   \n",
       "2                  310978000000   \n",
       "3                  301839000000   \n",
       "4                  295582000000   \n",
       "\n",
       "   GDP per unit of energy use (PPP $ per kg of oil eq.)  \\\n",
       "0                                          11.351615      \n",
       "1                                          11.488947      \n",
       "2                                          10.866191      \n",
       "3                                          10.050764      \n",
       "4                                           9.440491      \n",
       "\n",
       "   Energy imports net (% energy use)  Fossil Fuel Consumption (% total)  \\\n",
       "0                          73.151300                          76.102673   \n",
       "1                          76.317140                          79.793961   \n",
       "2                          78.167604                          81.800550   \n",
       "3                          78.941929                          83.187732   \n",
       "4                          77.891422                          82.502140   \n",
       "\n",
       "   Electric Power Consumption (kWh)  CO2 Emissions total (million t)  \\\n",
       "0                      265794000000                           267.92   \n",
       "1                      262071000000                           282.49   \n",
       "2                      276909000000                           317.11   \n",
       "3                      273820000000                           343.71   \n",
       "4                      271049000000                           331.86   \n",
       "\n",
       "   Unemplyment rate (%)  Diesel consumpion road (kt of oil equivalent)  \n",
       "0                  20.1                                          23590  \n",
       "1                  18.0                                          24259  \n",
       "2                  11.3                                          26343  \n",
       "3                   8.3                                          25726  \n",
       "4                   8.5                                          24546  "
      ]
     },
     "execution_count": 3,
     "metadata": {},
     "output_type": "execute_result"
    }
   ],
   "source": [
    "data=pd.read_excel('/home/vivek/Documents/Research_Paper/data/data.xlsx')\n",
    "data.head()"
   ]
  },
  {
   "cell_type": "code",
   "execution_count": 4,
   "metadata": {},
   "outputs": [],
   "source": [
    "X=data.loc[:,['Export','Import','GDP per unit of energy use (PPP $ per kg of oil eq.)','Energy imports net (% energy use)','Electric Power Consumption (kWh)','Unemplyment rate (%)']]\n",
    "#X=data.drop('Actual energy demand',1)\n",
    "Y=data['Actual energy demand']\n",
    "x_train, x_cv, y_train, y_cv = train_test_split(X,Y, test_size =0.3)"
   ]
  },
  {
   "cell_type": "markdown",
   "metadata": {},
   "source": [
    "# Linear Regression"
   ]
  },
  {
   "cell_type": "code",
   "execution_count": 5,
   "metadata": {},
   "outputs": [
    {
     "data": {
      "text/plain": [
       "0.9864991829869868"
      ]
     },
     "execution_count": 5,
     "metadata": {},
     "output_type": "execute_result"
    }
   ],
   "source": [
    "lreg = LinearRegression()\n",
    "lreg.fit(x_train,y_train)\n",
    "lreg.score(x_train,y_train)"
   ]
  },
  {
   "cell_type": "code",
   "execution_count": 6,
   "metadata": {},
   "outputs": [],
   "source": [
    "pred_cv = lreg.predict(x_cv)"
   ]
  },
  {
   "cell_type": "code",
   "execution_count": 7,
   "metadata": {},
   "outputs": [
    {
     "data": {
      "text/plain": [
       "23876290.155798666"
      ]
     },
     "execution_count": 7,
     "metadata": {},
     "output_type": "execute_result"
    }
   ],
   "source": [
    "mse = np.mean((pred_cv - y_cv)**2)\n",
    "mse"
   ]
  },
  {
   "cell_type": "code",
   "execution_count": 8,
   "metadata": {},
   "outputs": [
    {
     "data": {
      "text/plain": [
       "0.95135312868703059"
      ]
     },
     "execution_count": 8,
     "metadata": {},
     "output_type": "execute_result"
    }
   ],
   "source": [
    "lreg.score(x_cv,y_cv)"
   ]
  },
  {
   "cell_type": "code",
   "execution_count": 9,
   "metadata": {},
   "outputs": [
    {
     "data": {
      "text/plain": [
       "2617.7717961559574"
      ]
     },
     "execution_count": 9,
     "metadata": {},
     "output_type": "execute_result"
    }
   ],
   "source": [
    "mean_absolute_error(pred_cv, y_cv)"
   ]
  },
  {
   "cell_type": "code",
   "execution_count": 10,
   "metadata": {},
   "outputs": [
    {
     "data": {
      "text/plain": [
       "2.8999850782682657"
      ]
     },
     "execution_count": 10,
     "metadata": {},
     "output_type": "execute_result"
    }
   ],
   "source": [
    "mean_absolute_percentage_error(pred_cv, y_cv)"
   ]
  },
  {
   "cell_type": "code",
   "execution_count": 11,
   "metadata": {},
   "outputs": [
    {
     "data": {
      "text/plain": [
       "<matplotlib.text.Text at 0x7f05a74a8a50>"
      ]
     },
     "execution_count": 11,
     "metadata": {},
     "output_type": "execute_result"
    },
    {
     "data": {
      "image/png": "[encoded data removed]",
      "text/plain": [
       "<matplotlib.figure.Figure at 0x7f05a94b6ed0>"
      ]
     },
     "metadata": {},
     "output_type": "display_data"
    }
   ],
   "source": [
    "x_plot = plt.scatter(pred_cv, (pred_cv - y_cv), c='b')\n",
    "\n",
    "plt.hlines(y=0, xmin= -20000, xmax=120000)\n",
    "\n",
    "plt.title('Residual plot')"
   ]
  },
  {
   "cell_type": "code",
   "execution_count": 12,
   "metadata": {},
   "outputs": [
    {
     "data": {
      "text/plain": [
       "<matplotlib.axes._subplots.AxesSubplot at 0x7f05a743db90>"
      ]
     },
     "execution_count": 12,
     "metadata": {},
     "output_type": "execute_result"
    },
    {
     "data": {
      "image/png": "[encoded data removed]",
      "text/plain": [
       "<matplotlib.figure.Figure at 0x7f05a7405990>"
      ]
     },
     "metadata": {},
     "output_type": "display_data"
    }
   ],
   "source": [
    "predictors = x_train.columns\n",
    "\n",
    "coef = Series(lreg.coef_,predictors).sort_values()\n",
    "\n",
    "coef.plot(kind='bar', title='Modal Coefficients')"
   ]
  },
  {
   "cell_type": "markdown",
   "metadata": {},
   "source": [
    "# Ridge Regression"
   ]
  },
  {
   "cell_type": "code",
   "execution_count": 13,
   "metadata": {},
   "outputs": [],
   "source": [
    "from sklearn.linear_model import Ridge"
   ]
  },
  {
   "cell_type": "code",
   "execution_count": 14,
   "metadata": {},
   "outputs": [
    {
     "data": {
      "text/plain": [
       "135855988.64971083"
      ]
     },
     "execution_count": 14,
     "metadata": {},
     "output_type": "execute_result"
    }
   ],
   "source": [
    "ridgeReg = Ridge(alpha=0.5, normalize=True)\n",
    "ridgeReg.fit(x_train,y_train)\n",
    "pred = ridgeReg.predict(x_cv)\n",
    "\n",
    "mse = np.mean((pred - y_cv)**2)\n",
    "mse "
   ]
  },
  {
   "cell_type": "code",
   "execution_count": 15,
   "metadata": {},
   "outputs": [
    {
     "data": {
      "text/plain": [
       "0.72319951073581423"
      ]
     },
     "execution_count": 15,
     "metadata": {},
     "output_type": "execute_result"
    }
   ],
   "source": [
    "ridgeReg.score(x_cv,y_cv)"
   ]
  },
  {
   "cell_type": "code",
   "execution_count": 16,
   "metadata": {},
   "outputs": [
    {
     "data": {
      "text/plain": [
       "10343.580775988386"
      ]
     },
     "execution_count": 16,
     "metadata": {},
     "output_type": "execute_result"
    }
   ],
   "source": [
    "mean_absolute_error(pred, y_cv)"
   ]
  },
  {
   "cell_type": "code",
   "execution_count": 17,
   "metadata": {},
   "outputs": [
    {
     "data": {
      "text/plain": [
       "14.196013429744564"
      ]
     },
     "execution_count": 17,
     "metadata": {},
     "output_type": "execute_result"
    }
   ],
   "source": [
    "mean_absolute_percentage_error(pred, y_cv)"
   ]
  },
  {
   "cell_type": "code",
   "execution_count": 18,
   "metadata": {},
   "outputs": [
    {
     "data": {
      "text/plain": [
       "<matplotlib.axes._subplots.AxesSubplot at 0x7f05a738aa50>"
      ]
     },
     "execution_count": 18,
     "metadata": {},
     "output_type": "execute_result"
    },
    {
     "data": {
      "image/png": "[encoded data removed]",
      "text/plain": [
       "<matplotlib.figure.Figure at 0x7f05a9bb0f10>"
      ]
     },
     "metadata": {},
     "output_type": "display_data"
    }
   ],
   "source": [
    "predictors = x_train.columns\n",
    "\n",
    "coef = Series(ridgeReg.coef_,predictors).sort_values()\n",
    "\n",
    "coef.plot(kind='bar', title='Modal Coefficients')"
   ]
  },
  {
   "cell_type": "markdown",
   "metadata": {},
   "source": [
    "# Lasso Regression"
   ]
  },
  {
   "cell_type": "code",
   "execution_count": 19,
   "metadata": {},
   "outputs": [
    {
     "name": "stderr",
     "output_type": "stream",
     "text": [
      "/usr/local/lib/python2.7/dist-packages/sklearn/linear_model/coordinate_descent.py:491: ConvergenceWarning: Objective did not converge. You might want to increase the number of iterations. Fitting data with very small alpha may cause precision problems.\n",
      "  ConvergenceWarning)\n"
     ]
    },
    {
     "data": {
      "text/plain": [
       "23003405.080726109"
      ]
     },
     "execution_count": 19,
     "metadata": {},
     "output_type": "execute_result"
    }
   ],
   "source": [
    "from sklearn.linear_model import Lasso\n",
    "\n",
    "lassoReg = Lasso(alpha=0.3, normalize=True)\n",
    "\n",
    "lassoReg.fit(x_train,y_train)\n",
    "\n",
    "pred1 = lassoReg.predict(x_cv)\n",
    "\n",
    "# calculating mse\n",
    "\n",
    "mse = np.mean((pred1 - y_cv)**2)\n",
    "mse"
   ]
  },
  {
   "cell_type": "code",
   "execution_count": 20,
   "metadata": {},
   "outputs": [
    {
     "data": {
      "text/plain": [
       "0.95313159291413541"
      ]
     },
     "execution_count": 20,
     "metadata": {},
     "output_type": "execute_result"
    }
   ],
   "source": [
    "lassoReg.score(x_cv,y_cv)"
   ]
  },
  {
   "cell_type": "code",
   "execution_count": 21,
   "metadata": {},
   "outputs": [
    {
     "data": {
      "text/plain": [
       "2632.67753217058"
      ]
     },
     "execution_count": 21,
     "metadata": {},
     "output_type": "execute_result"
    }
   ],
   "source": [
    "mean_absolute_error(pred1, y_cv)"
   ]
  },
  {
   "cell_type": "code",
   "execution_count": 22,
   "metadata": {},
   "outputs": [
    {
     "data": {
      "text/plain": [
       "2.943829916503899"
      ]
     },
     "execution_count": 22,
     "metadata": {},
     "output_type": "execute_result"
    }
   ],
   "source": [
    "mean_absolute_percentage_error(pred1, y_cv)"
   ]
  },
  {
   "cell_type": "code",
   "execution_count": 23,
   "metadata": {},
   "outputs": [
    {
     "data": {
      "text/plain": [
       "<matplotlib.axes._subplots.AxesSubplot at 0x7f05a71c7910>"
      ]
     },
     "execution_count": 23,
     "metadata": {},
     "output_type": "execute_result"
    },
    {
     "data": {
      "image/png": "[encoded data removed]",
      "text/plain": [
       "<matplotlib.figure.Figure at 0x7f05a94b6210>"
      ]
     },
     "metadata": {},
     "output_type": "display_data"
    }
   ],
   "source": [
    "predictors = x_train.columns\n",
    "\n",
    "coef1 = Series(lassoReg.coef_,predictors).sort_values()\n",
    "\n",
    "coef1.plot(kind='bar', title='Modal Coefficients')"
   ]
  },
  {
   "cell_type": "markdown",
   "metadata": {},
   "source": [
    "# ElasticNet Regression"
   ]
  },
  {
   "cell_type": "code",
   "execution_count": 24,
   "metadata": {},
   "outputs": [
    {
     "data": {
      "text/plain": [
       "23428301.851343121"
      ]
     },
     "execution_count": 24,
     "metadata": {},
     "output_type": "execute_result"
    }
   ],
   "source": [
    "from sklearn.linear_model import ElasticNet\n",
    "\n",
    "ENreg = ElasticNet(alpha=1, l1_ratio=0.5, normalize=False)\n",
    "\n",
    "ENreg.fit(x_train,y_train)\n",
    "\n",
    "pred2 = ENreg.predict(x_cv)\n",
    "\n",
    "#calculating mse\n",
    "\n",
    "mse = np.mean((pred2 - y_cv)**2)\n",
    "\n",
    "mse"
   ]
  },
  {
   "cell_type": "code",
   "execution_count": 25,
   "metadata": {},
   "outputs": [
    {
     "data": {
      "text/plain": [
       "0.9522658847833233"
      ]
     },
     "execution_count": 25,
     "metadata": {},
     "output_type": "execute_result"
    }
   ],
   "source": [
    "ENreg.score(x_cv,y_cv)"
   ]
  },
  {
   "cell_type": "code",
   "execution_count": 26,
   "metadata": {},
   "outputs": [
    {
     "data": {
      "text/plain": [
       "4097.3223127936008"
      ]
     },
     "execution_count": 26,
     "metadata": {},
     "output_type": "execute_result"
    }
   ],
   "source": [
    "mean_absolute_error(pred2, y_cv)"
   ]
  },
  {
   "cell_type": "code",
   "execution_count": 27,
   "metadata": {},
   "outputs": [
    {
     "data": {
      "text/plain": [
       "5.4882073785184469"
      ]
     },
     "execution_count": 27,
     "metadata": {},
     "output_type": "execute_result"
    }
   ],
   "source": [
    "mean_absolute_percentage_error(pred2, y_cv)"
   ]
  },
  {
   "cell_type": "markdown",
   "metadata": {},
   "source": [
    "# Support Vector Regression"
   ]
  },
  {
   "cell_type": "code",
   "execution_count": 28,
   "metadata": {},
   "outputs": [],
   "source": [
    "from sklearn.svm import SVR"
   ]
  },
  {
   "cell_type": "code",
   "execution_count": 29,
   "metadata": {},
   "outputs": [
    {
     "data": {
      "text/plain": [
       "SVR(C=1.0, cache_size=200, coef0=0.0, degree=3, epsilon=0.2, gamma='auto',\n",
       "  kernel='rbf', max_iter=-1, shrinking=True, tol=0.001, verbose=False)"
      ]
     },
     "execution_count": 29,
     "metadata": {},
     "output_type": "execute_result"
    }
   ],
   "source": [
    "clf = SVR(C=1.0, epsilon=0.2)\n",
    "clf.fit(x_train, y_train) "
   ]
  },
  {
   "cell_type": "code",
   "execution_count": 30,
   "metadata": {},
   "outputs": [
    {
     "data": {
      "text/plain": [
       "579211585.29999995"
      ]
     },
     "execution_count": 30,
     "metadata": {},
     "output_type": "execute_result"
    }
   ],
   "source": [
    "pred3 = clf.predict(x_cv)\n",
    "mse=np.mean((pred3 - y_cv)**2)\n",
    "mse"
   ]
  },
  {
   "cell_type": "code",
   "execution_count": 31,
   "metadata": {},
   "outputs": [
    {
     "data": {
      "text/plain": [
       "-0.1801176509922362"
      ]
     },
     "execution_count": 31,
     "metadata": {},
     "output_type": "execute_result"
    }
   ],
   "source": [
    "clf.score(x_cv,y_cv)"
   ]
  },
  {
   "cell_type": "code",
   "execution_count": 32,
   "metadata": {},
   "outputs": [
    {
     "data": {
      "text/plain": [
       "22431.099999999999"
      ]
     },
     "execution_count": 32,
     "metadata": {},
     "output_type": "execute_result"
    }
   ],
   "source": [
    "mean_absolute_error(pred3, y_cv)"
   ]
  },
  {
   "cell_type": "code",
   "execution_count": 33,
   "metadata": {},
   "outputs": [
    {
     "data": {
      "text/plain": [
       "32.694583722014926"
      ]
     },
     "execution_count": 33,
     "metadata": {},
     "output_type": "execute_result"
    }
   ],
   "source": [
    "mean_absolute_percentage_error(pred3, y_cv)"
   ]
  },
  {
   "cell_type": "code",
   "execution_count": null,
   "metadata": {},
   "outputs": [],
   "source": []
  }
 ],
 "metadata": {
  "kernelspec": {
   "display_name": "Python 2",
   "language": "python",
   "name": "python2"
  },
  "language_info": {
   "codemirror_mode": {
    "name": "ipython",
    "version": 2
   },
   "file_extension": ".py",
   "mimetype": "text/x-python",
   "name": "python",
   "nbconvert_exporter": "python",
   "pygments_lexer": "ipython2",
   "version": "2.7.12"
  }
 },
 "nbformat": 4,
 "nbformat_minor": 2
}
